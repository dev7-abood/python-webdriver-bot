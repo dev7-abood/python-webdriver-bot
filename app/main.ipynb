{
 "cells": [
  {
   "cell_type": "code",
   "execution_count": 1,
   "id": "825c9d0a",
   "metadata": {
    "pycharm": {
     "name": "#%%\n"
    }
   },
   "outputs": [
    {
     "name": "stdout",
     "output_type": "stream",
     "text": [
      "Hello\n"
     ]
    }
   ],
   "source": [
    "print('Hello')"
   ]
  },
  {
   "cell_type": "code",
   "execution_count": 5,
   "id": "aa6b0605",
   "metadata": {
    "pycharm": {
     "name": "#%%\n"
    }
   },
   "outputs": [],
   "source": [
    "from selenium import webdriver\n",
    "from selenium.webdriver.chrome.service import Service\n",
    "from json import load,dump\n",
    "from selenium.webdriver.common.by import By\n",
    "from dotenv import load_dotenv, dotenv_values\n",
    "import time\n",
    "import datetime\n",
    "import os"
   ]
  },
  {
   "cell_type": "code",
   "execution_count": 6,
   "id": "1e87a279",
   "metadata": {
    "pycharm": {
     "name": "#%%\n"
    }
   },
   "outputs": [],
   "source": [
    "config = dotenv_values(\".env\")\n",
    "s = Service(\"../bin/driver/chromedriver.exe\")\n",
    "driver = webdriver.Chrome(service=s)\n"
   ]
  },
  {
   "cell_type": "code",
   "execution_count": 7,
   "id": "d098d527",
   "metadata": {
    "pycharm": {
     "name": "#%%\n"
    }
   },
   "outputs": [],
   "source": [
    "config = dotenv_values(\".env\")\n",
    "s = Service(\"../bin/driver/chromedriver.exe\")\n",
    "driver = webdriver.Chrome(service=s)"
   ]
  },
  {
   "cell_type": "code",
   "execution_count": 23,
   "id": "4da45db8",
   "metadata": {},
   "outputs": [],
   "source": [
    "driver.get('https://getlike.io/en/login/')\n",
    "if os.stat('../bin/cookies/getlike.json').st_size == 0:\n",
    "    driver.find_element('id', 'User_loginLogin').send_keys(config.get('EMAIL'))\n",
    "    driver.find_element('id', 'User_passwordLogin').send_keys(config.get('PASSWORD'))\n",
    "    time.sleep(10)\n",
    "    driver.find_element('name', 'submitLogin').click()\n",
    "    time.sleep(10)\n",
    "    getLinkCookies = driver.get_cookies()\n",
    "    time.sleep(10)\n",
    "\n",
    "    with open('../bin/cookies/getlike.json', 'w') as file:\n",
    "        dump(getLinkCookies, file)\n",
    "        file.close()\n",
    "else:\n",
    "    with open('../bin/cookies/getlike.json', 'r') as file:\n",
    "        for index in load(file):\n",
    "            driver.add_cookie(index)\n",
    "            time.sleep(5)\n",
    "        driver.refresh()\n",
    "time.sleep(4)\n",
    "\n",
    "\n",
    "driver.get('https://getlike.io/en/tasks/tiktok/subscribe/')\n",
    "articles = driver.find_elements(By.TAG_NAME, 'article')"
   ]
  },
  {
   "cell_type": "code",
   "execution_count": 24,
   "id": "5e84a0b8",
   "metadata": {},
   "outputs": [
    {
     "name": "stdout",
     "output_type": "stream",
     "text": [
      "<selenium.webdriver.remote.webelement.WebElement (session=\"ef6feb2c92cac0cd09c58a83d1fa5ca7\", element=\"b0d8a5c5-73e0-4f2f-a276-b80ea460524a\")>\n"
     ]
    },
    {
     "ename": "NoSuchElementException",
     "evalue": "Message: no such element: Unable to locate element: {\"method\":\"css selector\",\"selector\":\".do do-task btn btn-sm btn-primary btn-block\"}\n  (Session info: chrome=103.0.5060.114)\nStacktrace:\nBacktrace:\n\tOrdinal0 [0x004C6463+2188387]\n\tOrdinal0 [0x0045E461+1762401]\n\tOrdinal0 [0x00373D78+802168]\n\tOrdinal0 [0x003A1880+989312]\n\tOrdinal0 [0x003A1B1B+989979]\n\tOrdinal0 [0x00398071+950385]\n\tOrdinal0 [0x003BC824+1099812]\n\tOrdinal0 [0x00397FF4+950260]\n\tOrdinal0 [0x003BC9F4+1100276]\n\tOrdinal0 [0x003CCC22+1166370]\n\tOrdinal0 [0x003BC5F6+1099254]\n\tOrdinal0 [0x00396BE0+945120]\n\tOrdinal0 [0x00397AD6+948950]\n\tGetHandleVerifier [0x007671F2+2712546]\n\tGetHandleVerifier [0x0075886D+2652765]\n\tGetHandleVerifier [0x0055002A+520730]\n\tGetHandleVerifier [0x0054EE06+516086]\n\tOrdinal0 [0x0046468B+1787531]\n\tOrdinal0 [0x00468E88+1805960]\n\tOrdinal0 [0x00468F75+1806197]\n\tOrdinal0 [0x00471DF1+1842673]\n\tBaseThreadInitThunk [0x76D5FA29+25]\n\tRtlGetAppContainerNamedObjectPath [0x77D67A9E+286]\n\tRtlGetAppContainerNamedObjectPath [0x77D67A6E+238]\n",
     "output_type": "error",
     "traceback": [
      "\u001b[1;31m---------------------------------------------------------------------------\u001b[0m",
      "\u001b[1;31mNoSuchElementException\u001b[0m                    Traceback (most recent call last)",
      "Input \u001b[1;32mIn [24]\u001b[0m, in \u001b[0;36m<cell line: 1>\u001b[1;34m()\u001b[0m\n\u001b[0;32m      1\u001b[0m \u001b[38;5;28;01mfor\u001b[39;00m i \u001b[38;5;129;01min\u001b[39;00m articles:\n\u001b[0;32m      2\u001b[0m     \u001b[38;5;28mprint\u001b[39m(i)\n\u001b[1;32m----> 3\u001b[0m     \u001b[43mi\u001b[49m\u001b[38;5;241;43m.\u001b[39;49m\u001b[43mfind_element\u001b[49m\u001b[43m(\u001b[49m\u001b[43mBy\u001b[49m\u001b[38;5;241;43m.\u001b[39;49m\u001b[43mCLASS_NAME\u001b[49m\u001b[43m,\u001b[49m\u001b[43m \u001b[49m\u001b[38;5;124;43m'\u001b[39;49m\u001b[38;5;124;43mdo do-task btn btn-sm btn-primary btn-block\u001b[39;49m\u001b[38;5;124;43m'\u001b[39;49m\u001b[43m)\u001b[49m\n\u001b[0;32m      4\u001b[0m     i\u001b[38;5;241m.\u001b[39mclick()\n\u001b[0;32m      5\u001b[0m     time\u001b[38;5;241m.\u001b[39msleep(\u001b[38;5;241m10\u001b[39m)\n",
      "File \u001b[1;32m~\\anaconda3\\lib\\site-packages\\selenium\\webdriver\\remote\\webelement.py:419\u001b[0m, in \u001b[0;36mWebElement.find_element\u001b[1;34m(self, by, value)\u001b[0m\n\u001b[0;32m    416\u001b[0m     by \u001b[38;5;241m=\u001b[39m By\u001b[38;5;241m.\u001b[39mCSS_SELECTOR\n\u001b[0;32m    417\u001b[0m     value \u001b[38;5;241m=\u001b[39m \u001b[38;5;124m'\u001b[39m\u001b[38;5;124m[name=\u001b[39m\u001b[38;5;124m\"\u001b[39m\u001b[38;5;132;01m%s\u001b[39;00m\u001b[38;5;124m\"\u001b[39m\u001b[38;5;124m]\u001b[39m\u001b[38;5;124m'\u001b[39m \u001b[38;5;241m%\u001b[39m value\n\u001b[1;32m--> 419\u001b[0m \u001b[38;5;28;01mreturn\u001b[39;00m \u001b[38;5;28;43mself\u001b[39;49m\u001b[38;5;241;43m.\u001b[39;49m\u001b[43m_execute\u001b[49m\u001b[43m(\u001b[49m\u001b[43mCommand\u001b[49m\u001b[38;5;241;43m.\u001b[39;49m\u001b[43mFIND_CHILD_ELEMENT\u001b[49m\u001b[43m,\u001b[49m\n\u001b[0;32m    420\u001b[0m \u001b[43m                     \u001b[49m\u001b[43m{\u001b[49m\u001b[38;5;124;43m\"\u001b[39;49m\u001b[38;5;124;43musing\u001b[39;49m\u001b[38;5;124;43m\"\u001b[39;49m\u001b[43m:\u001b[49m\u001b[43m \u001b[49m\u001b[43mby\u001b[49m\u001b[43m,\u001b[49m\u001b[43m \u001b[49m\u001b[38;5;124;43m\"\u001b[39;49m\u001b[38;5;124;43mvalue\u001b[39;49m\u001b[38;5;124;43m\"\u001b[39;49m\u001b[43m:\u001b[49m\u001b[43m \u001b[49m\u001b[43mvalue\u001b[49m\u001b[43m}\u001b[49m\u001b[43m)\u001b[49m[\u001b[38;5;124m'\u001b[39m\u001b[38;5;124mvalue\u001b[39m\u001b[38;5;124m'\u001b[39m]\n",
      "File \u001b[1;32m~\\anaconda3\\lib\\site-packages\\selenium\\webdriver\\remote\\webelement.py:396\u001b[0m, in \u001b[0;36mWebElement._execute\u001b[1;34m(self, command, params)\u001b[0m\n\u001b[0;32m    394\u001b[0m     params \u001b[38;5;241m=\u001b[39m {}\n\u001b[0;32m    395\u001b[0m params[\u001b[38;5;124m'\u001b[39m\u001b[38;5;124mid\u001b[39m\u001b[38;5;124m'\u001b[39m] \u001b[38;5;241m=\u001b[39m \u001b[38;5;28mself\u001b[39m\u001b[38;5;241m.\u001b[39m_id\n\u001b[1;32m--> 396\u001b[0m \u001b[38;5;28;01mreturn\u001b[39;00m \u001b[38;5;28;43mself\u001b[39;49m\u001b[38;5;241;43m.\u001b[39;49m\u001b[43m_parent\u001b[49m\u001b[38;5;241;43m.\u001b[39;49m\u001b[43mexecute\u001b[49m\u001b[43m(\u001b[49m\u001b[43mcommand\u001b[49m\u001b[43m,\u001b[49m\u001b[43m \u001b[49m\u001b[43mparams\u001b[49m\u001b[43m)\u001b[49m\n",
      "File \u001b[1;32m~\\anaconda3\\lib\\site-packages\\selenium\\webdriver\\remote\\webdriver.py:435\u001b[0m, in \u001b[0;36mWebDriver.execute\u001b[1;34m(self, driver_command, params)\u001b[0m\n\u001b[0;32m    433\u001b[0m response \u001b[38;5;241m=\u001b[39m \u001b[38;5;28mself\u001b[39m\u001b[38;5;241m.\u001b[39mcommand_executor\u001b[38;5;241m.\u001b[39mexecute(driver_command, params)\n\u001b[0;32m    434\u001b[0m \u001b[38;5;28;01mif\u001b[39;00m response:\n\u001b[1;32m--> 435\u001b[0m     \u001b[38;5;28;43mself\u001b[39;49m\u001b[38;5;241;43m.\u001b[39;49m\u001b[43merror_handler\u001b[49m\u001b[38;5;241;43m.\u001b[39;49m\u001b[43mcheck_response\u001b[49m\u001b[43m(\u001b[49m\u001b[43mresponse\u001b[49m\u001b[43m)\u001b[49m\n\u001b[0;32m    436\u001b[0m     response[\u001b[38;5;124m'\u001b[39m\u001b[38;5;124mvalue\u001b[39m\u001b[38;5;124m'\u001b[39m] \u001b[38;5;241m=\u001b[39m \u001b[38;5;28mself\u001b[39m\u001b[38;5;241m.\u001b[39m_unwrap_value(\n\u001b[0;32m    437\u001b[0m         response\u001b[38;5;241m.\u001b[39mget(\u001b[38;5;124m'\u001b[39m\u001b[38;5;124mvalue\u001b[39m\u001b[38;5;124m'\u001b[39m, \u001b[38;5;28;01mNone\u001b[39;00m))\n\u001b[0;32m    438\u001b[0m     \u001b[38;5;28;01mreturn\u001b[39;00m response\n",
      "File \u001b[1;32m~\\anaconda3\\lib\\site-packages\\selenium\\webdriver\\remote\\errorhandler.py:247\u001b[0m, in \u001b[0;36mErrorHandler.check_response\u001b[1;34m(self, response)\u001b[0m\n\u001b[0;32m    245\u001b[0m         alert_text \u001b[38;5;241m=\u001b[39m value[\u001b[38;5;124m'\u001b[39m\u001b[38;5;124malert\u001b[39m\u001b[38;5;124m'\u001b[39m]\u001b[38;5;241m.\u001b[39mget(\u001b[38;5;124m'\u001b[39m\u001b[38;5;124mtext\u001b[39m\u001b[38;5;124m'\u001b[39m)\n\u001b[0;32m    246\u001b[0m     \u001b[38;5;28;01mraise\u001b[39;00m exception_class(message, screen, stacktrace, alert_text)  \u001b[38;5;66;03m# type: ignore[call-arg]  # mypy is not smart enough here\u001b[39;00m\n\u001b[1;32m--> 247\u001b[0m \u001b[38;5;28;01mraise\u001b[39;00m exception_class(message, screen, stacktrace)\n",
      "\u001b[1;31mNoSuchElementException\u001b[0m: Message: no such element: Unable to locate element: {\"method\":\"css selector\",\"selector\":\".do do-task btn btn-sm btn-primary btn-block\"}\n  (Session info: chrome=103.0.5060.114)\nStacktrace:\nBacktrace:\n\tOrdinal0 [0x004C6463+2188387]\n\tOrdinal0 [0x0045E461+1762401]\n\tOrdinal0 [0x00373D78+802168]\n\tOrdinal0 [0x003A1880+989312]\n\tOrdinal0 [0x003A1B1B+989979]\n\tOrdinal0 [0x00398071+950385]\n\tOrdinal0 [0x003BC824+1099812]\n\tOrdinal0 [0x00397FF4+950260]\n\tOrdinal0 [0x003BC9F4+1100276]\n\tOrdinal0 [0x003CCC22+1166370]\n\tOrdinal0 [0x003BC5F6+1099254]\n\tOrdinal0 [0x00396BE0+945120]\n\tOrdinal0 [0x00397AD6+948950]\n\tGetHandleVerifier [0x007671F2+2712546]\n\tGetHandleVerifier [0x0075886D+2652765]\n\tGetHandleVerifier [0x0055002A+520730]\n\tGetHandleVerifier [0x0054EE06+516086]\n\tOrdinal0 [0x0046468B+1787531]\n\tOrdinal0 [0x00468E88+1805960]\n\tOrdinal0 [0x00468F75+1806197]\n\tOrdinal0 [0x00471DF1+1842673]\n\tBaseThreadInitThunk [0x76D5FA29+25]\n\tRtlGetAppContainerNamedObjectPath [0x77D67A9E+286]\n\tRtlGetAppContainerNamedObjectPath [0x77D67A6E+238]\n"
     ]
    }
   ],
   "source": [
    "for i in articles:\n",
    "    print(i)\n",
    "    i.find_element(By.CLASS_NAME, 'do do-task btn btn-sm btn-primary btn-block')\n",
    "    i.click()\n",
    "    time.sleep(10)"
   ]
  },
  {
   "cell_type": "code",
   "execution_count": null,
   "id": "dca3e015",
   "metadata": {},
   "outputs": [],
   "source": []
  }
 ],
 "metadata": {
  "kernelspec": {
   "display_name": "Python 3 (ipykernel)",
   "language": "python",
   "name": "python3"
  },
  "language_info": {
   "codemirror_mode": {
    "name": "ipython",
    "version": 3
   },
   "file_extension": ".py",
   "mimetype": "text/x-python",
   "name": "python",
   "nbconvert_exporter": "python",
   "pygments_lexer": "ipython3",
   "version": "3.9.12"
  }
 },
 "nbformat": 4,
 "nbformat_minor": 5
}
