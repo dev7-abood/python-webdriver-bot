{
 "cells": [
  {
   "cell_type": "code",
   "execution_count": 1,
   "id": "825c9d0a",
   "metadata": {
    "pycharm": {
     "name": "#%%\n"
    }
   },
   "outputs": [
    {
     "name": "stdout",
     "output_type": "stream",
     "text": [
      "Hello\n"
     ]
    }
   ],
   "source": [
    "print('Hello')"
   ]
  },
  {
   "cell_type": "code",
   "execution_count": 5,
   "id": "aa6b0605",
   "metadata": {
    "pycharm": {
     "name": "#%%\n"
    }
   },
   "outputs": [],
   "source": [
    "from selenium import webdriver\n",
    "from selenium.webdriver.chrome.service import Service\n",
    "from json import load,dump\n",
    "from selenium.webdriver.common.by import By\n",
    "from dotenv import load_dotenv, dotenv_values\n",
    "import time\n",
    "import datetime\n",
    "import os"
   ]
  },
  {
   "cell_type": "code",
   "execution_count": 6,
   "id": "1e87a279",
   "metadata": {
    "pycharm": {
     "name": "#%%\n"
    }
   },
   "outputs": [],
   "source": [
    "config = dotenv_values(\".env\")\n",
    "s = Service(\"../bin/driver/chromedriver.exe\")\n",
    "driver = webdriver.Chrome(service=s)\n"
   ]
  },
  {
   "cell_type": "code",
   "execution_count": 7,
   "id": "d098d527",
   "metadata": {
    "pycharm": {
     "name": "#%%\n"
    }
   },
   "outputs": [],
   "source": [
    "config = dotenv_values(\".env\")\n",
    "s = Service(\"../bin/driver/chromedriver.exe\")\n",
    "driver = webdriver.Chrome(service=s)"
   ]
  },
  {
   "cell_type": "code",
   "execution_count": null,
   "id": "9cfd9fa5",
   "metadata": {},
   "outputs": [],
   "source": [
    "driver.get('https://getlike.io/en/login/')\n",
    "if os.stat('../bin/cookies/getlike.json').st_size == 0:\n",
    "    driver.find_element('id', 'User_loginLogin').send_keys(config.get('EMAIL'))\n",
    "    driver.find_element('id', 'User_passwordLogin').send_keys(config.get('PASSWORD'))\n",
    "    time.sleep(10)\n",
    "    driver.find_element('name', 'submitLogin').click()\n",
    "    time.sleep(10)\n",
    "    getLinkCookies = driver.get_cookies()\n",
    "    time.sleep(10)\n",
    "\n",
    "    with open('../bin/cookies/getlike.json', 'w') as file:\n",
    "        dump(getLinkCookies, file)\n",
    "        file.close()\n",
    "else:\n",
    "    with open('../bin/cookies/getlike.json', 'r') as file:\n",
    "        for index in load(file):\n",
    "            driver.add_cookie(index)\n",
    "            time.sleep(5)\n",
    "        driver.refresh()\n",
    "time.sleep(4)\n",
    "\n",
    "\n",
    "driver.get('https://getlike.io/en/tasks/tiktok/subscribe/')\n",
    "articles = driver.find_elements(By.TAG_NAME, 'article')"
   ]
  },
  {
   "cell_type": "code",
   "execution_count": null,
   "id": "af4c628b",
   "metadata": {},
   "outputs": [],
   "source": [
    "for i in articles:\n",
    "    \n",
    "    i.find_element(By.XPATH, 'article/div/div/div/div[4]/a')\n",
    "    i.click()\n",
    "    time.sleep(10)"
   ]
  }
 ],
 "metadata": {
  "kernelspec": {
   "display_name": "Python 3 (ipykernel)",
   "language": "python",
   "name": "python3"
  },
  "language_info": {
   "codemirror_mode": {
    "name": "ipython",
    "version": 3
   },
   "file_extension": ".py",
   "mimetype": "text/x-python",
   "name": "python",
   "nbconvert_exporter": "python",
   "pygments_lexer": "ipython3",
   "version": "3.9.12"
  }
 },
 "nbformat": 4,
 "nbformat_minor": 5
}
